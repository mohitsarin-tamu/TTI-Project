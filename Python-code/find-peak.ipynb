{
 "cells": [
  {
   "cell_type": "code",
   "execution_count": 1,
   "id": "749d2c56",
   "metadata": {},
   "outputs": [
    {
     "name": "stdout",
     "output_type": "stream",
     "text": [
      "Requirement already satisfied: scipy in ./anaconda3/lib/python3.11/site-packages (1.13.0)\n",
      "Requirement already satisfied: numpy<2.3,>=1.22.4 in ./anaconda3/lib/python3.11/site-packages (from scipy) (1.24.3)\n",
      "Note: you may need to restart the kernel to use updated packages.\n"
     ]
    }
   ],
   "source": [
    "pip install --upgrade scipy"
   ]
  },
  {
   "cell_type": "code",
   "execution_count": 2,
   "id": "523fa3af",
   "metadata": {},
   "outputs": [
    {
     "name": "stdout",
     "output_type": "stream",
     "text": [
      "\u001b[31mERROR: Ignored the following versions that require a different python version: 1.6.2 Requires-Python >=3.7,<3.10; 1.6.3 Requires-Python >=3.7,<3.10; 1.7.0 Requires-Python >=3.7,<3.10; 1.7.1 Requires-Python >=3.7,<3.10; 1.7.2 Requires-Python >=3.7,<3.11; 1.7.3 Requires-Python >=3.7,<3.11; 1.8.0 Requires-Python >=3.8,<3.11; 1.8.0rc1 Requires-Python >=3.8,<3.11; 1.8.0rc2 Requires-Python >=3.8,<3.11; 1.8.0rc3 Requires-Python >=3.8,<3.11; 1.8.0rc4 Requires-Python >=3.8,<3.11; 1.8.1 Requires-Python >=3.8,<3.11\u001b[0m\u001b[31m\n",
      "\u001b[0m\u001b[31mERROR: Could not find a version that satisfies the requirement scipy==1.6.3 (from versions: 0.8.0, 0.9.0, 0.10.0, 0.10.1, 0.11.0, 0.12.0, 0.12.1, 0.13.0, 0.13.1, 0.13.2, 0.13.3, 0.14.0, 0.14.1, 0.15.0, 0.15.1, 0.16.0, 0.16.1, 0.17.0, 0.17.1, 0.18.0, 0.18.1, 0.19.0, 0.19.1, 1.0.0, 1.0.1, 1.1.0, 1.2.0, 1.2.1, 1.2.2, 1.2.3, 1.3.0, 1.3.1, 1.3.2, 1.3.3, 1.4.0, 1.4.1, 1.5.0, 1.5.1, 1.5.2, 1.5.3, 1.5.4, 1.6.0, 1.6.1, 1.9.0rc1, 1.9.0rc2, 1.9.0rc3, 1.9.0, 1.9.1, 1.9.2, 1.9.3, 1.10.0rc1, 1.10.0rc2, 1.10.0, 1.10.1, 1.11.0rc1, 1.11.0rc2, 1.11.0, 1.11.1, 1.11.2, 1.11.3, 1.11.4, 1.12.0rc1, 1.12.0rc2, 1.12.0, 1.13.0rc1, 1.13.0)\u001b[0m\u001b[31m\n",
      "\u001b[0m\u001b[31mERROR: No matching distribution found for scipy==1.6.3\u001b[0m\u001b[31m\n",
      "\u001b[0mNote: you may need to restart the kernel to use updated packages.\n"
     ]
    }
   ],
   "source": [
    "pip install scipy==1.6.3"
   ]
  },
  {
   "cell_type": "code",
   "execution_count": null,
   "id": "226454d0",
   "metadata": {},
   "outputs": [
    {
     "name": "stderr",
     "output_type": "stream",
     "text": [
      "/var/folders/tx/2bh_v8ts7kqcvksf8363gbqw0000gn/T/ipykernel_12682/1375277383.py:2: DeprecationWarning: Please import `maximum_filter` from the `scipy.ndimage` namespace; the `scipy.ndimage.filters` namespace is deprecated and will be removed in SciPy 2.0.0.\n",
      "  from scipy.ndimage.filters import maximum_filter\n",
      "/var/folders/tx/2bh_v8ts7kqcvksf8363gbqw0000gn/T/ipykernel_12682/1375277383.py:3: DeprecationWarning: Please import `generate_binary_structure` from the `scipy.ndimage` namespace; the `scipy.ndimage.morphology` namespace is deprecated and will be removed in SciPy 2.0.0.\n",
      "  from scipy.ndimage.morphology import generate_binary_structure, binary_erosion\n",
      "/var/folders/tx/2bh_v8ts7kqcvksf8363gbqw0000gn/T/ipykernel_12682/1375277383.py:3: DeprecationWarning: Please import `binary_erosion` from the `scipy.ndimage` namespace; the `scipy.ndimage.morphology` namespace is deprecated and will be removed in SciPy 2.0.0.\n",
      "  from scipy.ndimage.morphology import generate_binary_structure, binary_erosion\n"
     ]
    }
   ],
   "source": [
    "import numpy as np\n",
    "from scipy.ndimage.filters import maximum_filter\n",
    "from scipy.ndimage.morphology import generate_binary_structure, binary_erosion\n",
    "import matplotlib.pyplot as plt\n",
    "import pandas as pd\n",
    "\n",
    "# Load the CSV data\n",
    "df = pd.read_csv(\"a240402b.csv\")\n",
    "\n",
    "features = df[['X (in)', 'Y (in)', 'Z (in)']]\n",
    "\n",
    "# Convert the Z data to a numpy array\n",
    "z_data = features['Z (in)'].values\n",
    "\n",
    "# Reshape the Z data into a 2D array\n",
    "z_data = z_data.reshape(-1, 1)  # Reshape to a column vector\n",
    "\n",
    "def detect_peaks(image):\n",
    "    \"\"\"\n",
    "    Takes an image and detects the peaks using the local maximum filter.\n",
    "    Returns a boolean mask of the peaks (i.e., 1 when\n",
    "    the pixel's value is the neighborhood maximum, 0 otherwise).\n",
    "    \"\"\"\n",
    "\n",
    "    # Define an 8-connected neighborhood\n",
    "    neighborhood = generate_binary_structure(2, 2)\n",
    "\n",
    "    # Apply the local maximum filter; all pixels of maximal value\n",
    "    # in their neighborhood are set to 1\n",
    "    local_max = maximum_filter(image, footprint=neighborhood) == image\n",
    "\n",
    "    # Create the mask of the background\n",
    "    #background = (image == 0)\n",
    "\n",
    "    # Erode the background to successfully subtract it from local_max\n",
    "    #eroded_background = binary_erosion(background, structure=neighborhood, border_value=1)\n",
    "\n",
    "    # Obtain the final mask, containing only peaks\n",
    "    detected_peaks = local_max \n",
    "    #^ eroded_background\n",
    "\n",
    "    return detected_peaks\n",
    "\n",
    "# Plotting\n",
    "plt.figure(figsize=(10, 5))  # Adjust figure size if needed\n",
    "for i, z_values in enumerate(z_data):\n",
    "    detected_peaks = detect_peaks(z_values.reshape(-1, 1))  # Reshape to 2D array\n",
    "    plt.plot(z_values, label=f'Data {i+1}')\n",
    "    plt.plot(detected_peaks * z_values.max(), 'ro', label=f'Peaks {i+1}')\n",
    "    \n",
    "plt.xlabel('Index')\n",
    "plt.ylabel('Z values')\n",
    "plt.title('Z values and Detected Peaks')\n",
    "plt.legend()\n",
    "plt.grid(True)\n",
    "plt.tight_layout()  # Adjust layout\n",
    "plt.show()\n"
   ]
  },
  {
   "cell_type": "code",
   "execution_count": null,
   "id": "d81737db",
   "metadata": {},
   "outputs": [],
   "source": []
  }
 ],
 "metadata": {
  "kernelspec": {
   "display_name": "Python 3 (ipykernel)",
   "language": "python",
   "name": "python3"
  },
  "language_info": {
   "codemirror_mode": {
    "name": "ipython",
    "version": 3
   },
   "file_extension": ".py",
   "mimetype": "text/x-python",
   "name": "python",
   "nbconvert_exporter": "python",
   "pygments_lexer": "ipython3",
   "version": "3.11.4"
  }
 },
 "nbformat": 4,
 "nbformat_minor": 5
}
